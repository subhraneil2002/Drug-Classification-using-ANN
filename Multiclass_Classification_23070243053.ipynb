{
 "cells": [
  {
   "cell_type": "markdown",
   "id": "123baae6",
   "metadata": {},
   "source": [
    "<div style=\"display: flex; justify-content: center; align-items: center; height: 150px; background-color: #f3f4f6; border: 2px solid #4CAF50; border-radius: 10px; padding: 10px; text-align: center; box-shadow: 0px 0px 10px rgba(0, 0, 0, 0.1);\">\n",
    "    <div style=\"text-align: center;\">\n",
    "        <h1 style=\"color: #4CAF50; margin: 10px; font-size: 2.5em;\">Assignment | Deep Learning</h1>\n",
    "    </div>\n",
    "    <div style=\"text-align: left; margin-left: 20px;\">\n",
    "        <h3 style=\"color: #333; margin: 10px 0 0;\">Name: Subhraneil Das</h3>\n",
    "        <h3 style=\"color: #333; margin: 5px 0 0;\">PRN: 23070243053</h3>\n",
    "    </div>\n",
    "</div>"
   ]
  },
  {
   "cell_type": "markdown",
   "id": "36a55569",
   "metadata": {},
   "source": [
    "## Drug Classification\n",
    "\n",
    "Objective:\n",
    "The goal is to classify patients into one of several drug categories (DrugY, drugA, drugB, drugC, drugX) based on their demographic and health attributes. "
   ]
  },
  {
   "cell_type": "markdown",
   "id": "d7ca7c31",
   "metadata": {},
   "source": [
    "Dataset Link: https://www.kaggle.com/datasets/prathamtripathi/drug-classification"
   ]
  },
  {
   "cell_type": "markdown",
   "id": "4185e9e1",
   "metadata": {},
   "source": [
    "Importing the Libraries"
   ]
  },
  {
   "cell_type": "code",
   "execution_count": 1,
   "id": "422c2645",
   "metadata": {},
   "outputs": [
    {
     "name": "stdout",
     "output_type": "stream",
     "text": [
      "WARNING:tensorflow:From C:\\Users\\admin\\anaconda3\\Lib\\site-packages\\keras\\src\\losses.py:2976: The name tf.losses.sparse_softmax_cross_entropy is deprecated. Please use tf.compat.v1.losses.sparse_softmax_cross_entropy instead.\n",
      "\n"
     ]
    }
   ],
   "source": [
    "import pandas as pd\n",
    "import numpy as np\n",
    "from sklearn.model_selection import train_test_split\n",
    "from sklearn.preprocessing import LabelEncoder, StandardScaler\n",
    "from tensorflow.keras.models import Sequential\n",
    "from tensorflow.keras.layers import Dense\n",
    "from tensorflow.keras.utils import to_categorical"
   ]
  },
  {
   "cell_type": "markdown",
   "id": "20f6f65c",
   "metadata": {},
   "source": [
    "Reading the data"
   ]
  },
  {
   "cell_type": "code",
   "execution_count": 2,
   "id": "ea5b5025",
   "metadata": {},
   "outputs": [
    {
     "data": {
      "text/html": [
       "<div>\n",
       "<style scoped>\n",
       "    .dataframe tbody tr th:only-of-type {\n",
       "        vertical-align: middle;\n",
       "    }\n",
       "\n",
       "    .dataframe tbody tr th {\n",
       "        vertical-align: top;\n",
       "    }\n",
       "\n",
       "    .dataframe thead th {\n",
       "        text-align: right;\n",
       "    }\n",
       "</style>\n",
       "<table border=\"1\" class=\"dataframe\">\n",
       "  <thead>\n",
       "    <tr style=\"text-align: right;\">\n",
       "      <th></th>\n",
       "      <th>Age</th>\n",
       "      <th>Sex</th>\n",
       "      <th>BP</th>\n",
       "      <th>Cholesterol</th>\n",
       "      <th>Na_to_K</th>\n",
       "      <th>Drug</th>\n",
       "    </tr>\n",
       "  </thead>\n",
       "  <tbody>\n",
       "    <tr>\n",
       "      <th>0</th>\n",
       "      <td>23</td>\n",
       "      <td>F</td>\n",
       "      <td>HIGH</td>\n",
       "      <td>HIGH</td>\n",
       "      <td>25.355</td>\n",
       "      <td>DrugY</td>\n",
       "    </tr>\n",
       "    <tr>\n",
       "      <th>1</th>\n",
       "      <td>47</td>\n",
       "      <td>M</td>\n",
       "      <td>LOW</td>\n",
       "      <td>HIGH</td>\n",
       "      <td>13.093</td>\n",
       "      <td>drugC</td>\n",
       "    </tr>\n",
       "    <tr>\n",
       "      <th>2</th>\n",
       "      <td>47</td>\n",
       "      <td>M</td>\n",
       "      <td>LOW</td>\n",
       "      <td>HIGH</td>\n",
       "      <td>10.114</td>\n",
       "      <td>drugC</td>\n",
       "    </tr>\n",
       "    <tr>\n",
       "      <th>3</th>\n",
       "      <td>28</td>\n",
       "      <td>F</td>\n",
       "      <td>NORMAL</td>\n",
       "      <td>HIGH</td>\n",
       "      <td>7.798</td>\n",
       "      <td>drugX</td>\n",
       "    </tr>\n",
       "    <tr>\n",
       "      <th>4</th>\n",
       "      <td>61</td>\n",
       "      <td>F</td>\n",
       "      <td>LOW</td>\n",
       "      <td>HIGH</td>\n",
       "      <td>18.043</td>\n",
       "      <td>DrugY</td>\n",
       "    </tr>\n",
       "  </tbody>\n",
       "</table>\n",
       "</div>"
      ],
      "text/plain": [
       "   Age Sex      BP Cholesterol  Na_to_K   Drug\n",
       "0   23   F    HIGH        HIGH   25.355  DrugY\n",
       "1   47   M     LOW        HIGH   13.093  drugC\n",
       "2   47   M     LOW        HIGH   10.114  drugC\n",
       "3   28   F  NORMAL        HIGH    7.798  drugX\n",
       "4   61   F     LOW        HIGH   18.043  DrugY"
      ]
     },
     "execution_count": 2,
     "metadata": {},
     "output_type": "execute_result"
    }
   ],
   "source": [
    "data = pd.read_csv(r\"C:\\Users\\admin\\Downloads\\drug200.csv\")\n",
    "\n",
    "data.head()"
   ]
  },
  {
   "cell_type": "code",
   "execution_count": 3,
   "id": "f09e680d",
   "metadata": {},
   "outputs": [
    {
     "data": {
      "text/plain": [
       "(200, 6)"
      ]
     },
     "execution_count": 3,
     "metadata": {},
     "output_type": "execute_result"
    }
   ],
   "source": [
    "data.shape"
   ]
  },
  {
   "cell_type": "code",
   "execution_count": 4,
   "id": "eba53c82",
   "metadata": {},
   "outputs": [
    {
     "data": {
      "text/plain": [
       "Age              int64\n",
       "Sex             object\n",
       "BP              object\n",
       "Cholesterol     object\n",
       "Na_to_K        float64\n",
       "Drug            object\n",
       "dtype: object"
      ]
     },
     "execution_count": 4,
     "metadata": {},
     "output_type": "execute_result"
    }
   ],
   "source": [
    "data.dtypes"
   ]
  },
  {
   "cell_type": "markdown",
   "id": "903fc203",
   "metadata": {},
   "source": [
    "Checking for null values"
   ]
  },
  {
   "cell_type": "code",
   "execution_count": 5,
   "id": "493689fe",
   "metadata": {},
   "outputs": [
    {
     "data": {
      "text/plain": [
       "Age            0\n",
       "Sex            0\n",
       "BP             0\n",
       "Cholesterol    0\n",
       "Na_to_K        0\n",
       "Drug           0\n",
       "dtype: int64"
      ]
     },
     "execution_count": 5,
     "metadata": {},
     "output_type": "execute_result"
    }
   ],
   "source": [
    "data.isnull().sum()"
   ]
  },
  {
   "cell_type": "markdown",
   "id": "8cd3c332",
   "metadata": {},
   "source": [
    "Encoding the features"
   ]
  },
  {
   "cell_type": "code",
   "execution_count": 6,
   "id": "cfa24900",
   "metadata": {},
   "outputs": [],
   "source": [
    "# Encoding categorical features\n",
    "label_encoders = {}\n",
    "for col in ['Sex', 'BP', 'Cholesterol']:\n",
    "    le = LabelEncoder()\n",
    "    data[col] = le.fit_transform(data[col])\n",
    "    label_encoders[col] = le\n",
    "\n",
    "# Encoding the target variable\n",
    "le_drug = LabelEncoder()\n",
    "data['Drug'] = le_drug.fit_transform(data['Drug'])\n",
    "\n",
    "# Features and target\n",
    "X = data.drop(columns='Drug')\n",
    "y = data['Drug']\n",
    "\n",
    "# Scaling continuous features\n",
    "scaler = StandardScaler()\n",
    "X[['Age', 'Na_to_K']] = scaler.fit_transform(X[['Age', 'Na_to_K']])\n",
    "\n",
    "# Train-test split\n",
    "X_train, X_test, y_train, y_test = train_test_split(X, y, test_size=0.2, random_state=42)"
   ]
  },
  {
   "cell_type": "markdown",
   "id": "1ed1d133",
   "metadata": {},
   "source": [
    "One-Hot Encoding"
   ]
  },
  {
   "cell_type": "code",
   "execution_count": 7,
   "id": "fa0098d6",
   "metadata": {},
   "outputs": [],
   "source": [
    "# Convert target to categorical (one-hot encoding)\n",
    "y_train = to_categorical(y_train)\n",
    "y_test = to_categorical(y_test)"
   ]
  },
  {
   "cell_type": "markdown",
   "id": "1a17ff85",
   "metadata": {},
   "source": [
    "Model Building"
   ]
  },
  {
   "cell_type": "code",
   "execution_count": 8,
   "id": "498eaf4c",
   "metadata": {},
   "outputs": [
    {
     "name": "stdout",
     "output_type": "stream",
     "text": [
      "WARNING:tensorflow:From C:\\Users\\admin\\anaconda3\\Lib\\site-packages\\keras\\src\\backend.py:873: The name tf.get_default_graph is deprecated. Please use tf.compat.v1.get_default_graph instead.\n",
      "\n",
      "WARNING:tensorflow:From C:\\Users\\admin\\anaconda3\\Lib\\site-packages\\keras\\src\\optimizers\\__init__.py:309: The name tf.train.Optimizer is deprecated. Please use tf.compat.v1.train.Optimizer instead.\n",
      "\n",
      "Model: \"sequential\"\n",
      "_________________________________________________________________\n",
      " Layer (type)                Output Shape              Param #   \n",
      "=================================================================\n",
      " dense (Dense)               (None, 32)                192       \n",
      "                                                                 \n",
      " dense_1 (Dense)             (None, 16)                528       \n",
      "                                                                 \n",
      " dense_2 (Dense)             (None, 5)                 85        \n",
      "                                                                 \n",
      "=================================================================\n",
      "Total params: 805 (3.14 KB)\n",
      "Trainable params: 805 (3.14 KB)\n",
      "Non-trainable params: 0 (0.00 Byte)\n",
      "_________________________________________________________________\n"
     ]
    }
   ],
   "source": [
    "# Build the DNN model\n",
    "model = Sequential([\n",
    "    Dense(32, activation='relu', input_shape=(X_train.shape[1],)),\n",
    "    Dense(16, activation='relu'),\n",
    "    Dense(y_train.shape[1], activation='softmax')  # Number of classes in the output\n",
    "])\n",
    "\n",
    "# Compile the model\n",
    "model.compile(optimizer='adam', loss='categorical_crossentropy', metrics=['accuracy'])\n",
    "\n",
    "#Summary of the model\n",
    "model.summary()"
   ]
  },
  {
   "cell_type": "markdown",
   "id": "e906aa75",
   "metadata": {},
   "source": [
    "Training the model"
   ]
  },
  {
   "cell_type": "code",
   "execution_count": 9,
   "id": "fb94ef4c",
   "metadata": {},
   "outputs": [
    {
     "name": "stdout",
     "output_type": "stream",
     "text": [
      "Epoch 1/50\n",
      "WARNING:tensorflow:From C:\\Users\\admin\\anaconda3\\Lib\\site-packages\\keras\\src\\utils\\tf_utils.py:492: The name tf.ragged.RaggedTensorValue is deprecated. Please use tf.compat.v1.ragged.RaggedTensorValue instead.\n",
      "\n",
      "WARNING:tensorflow:From C:\\Users\\admin\\anaconda3\\Lib\\site-packages\\keras\\src\\engine\\base_layer_utils.py:384: The name tf.executing_eagerly_outside_functions is deprecated. Please use tf.compat.v1.executing_eagerly_outside_functions instead.\n",
      "\n",
      "20/20 [==============================] - 5s 52ms/step - loss: 1.6316 - accuracy: 0.1688 - val_loss: 1.5278 - val_accuracy: 0.3500\n",
      "Epoch 2/50\n",
      "20/20 [==============================] - 0s 12ms/step - loss: 1.4679 - accuracy: 0.4938 - val_loss: 1.4001 - val_accuracy: 0.5000\n",
      "Epoch 3/50\n",
      "20/20 [==============================] - 0s 11ms/step - loss: 1.3232 - accuracy: 0.6000 - val_loss: 1.2888 - val_accuracy: 0.5000\n",
      "Epoch 4/50\n",
      "20/20 [==============================] - 0s 10ms/step - loss: 1.1793 - accuracy: 0.6812 - val_loss: 1.1736 - val_accuracy: 0.6250\n",
      "Epoch 5/50\n",
      "20/20 [==============================] - 0s 11ms/step - loss: 1.0500 - accuracy: 0.7250 - val_loss: 1.0697 - val_accuracy: 0.6500\n",
      "Epoch 6/50\n",
      "20/20 [==============================] - 0s 11ms/step - loss: 0.9395 - accuracy: 0.7312 - val_loss: 0.9825 - val_accuracy: 0.6250\n",
      "Epoch 7/50\n",
      "20/20 [==============================] - 0s 10ms/step - loss: 0.8499 - accuracy: 0.7500 - val_loss: 0.9069 - val_accuracy: 0.6750\n",
      "Epoch 8/50\n",
      "20/20 [==============================] - 0s 10ms/step - loss: 0.7702 - accuracy: 0.7875 - val_loss: 0.8306 - val_accuracy: 0.7250\n",
      "Epoch 9/50\n",
      "20/20 [==============================] - 0s 10ms/step - loss: 0.6959 - accuracy: 0.7937 - val_loss: 0.7676 - val_accuracy: 0.7500\n",
      "Epoch 10/50\n",
      "20/20 [==============================] - 0s 11ms/step - loss: 0.6313 - accuracy: 0.8188 - val_loss: 0.7043 - val_accuracy: 0.7500\n",
      "Epoch 11/50\n",
      "20/20 [==============================] - 0s 12ms/step - loss: 0.5696 - accuracy: 0.8375 - val_loss: 0.6475 - val_accuracy: 0.8000\n",
      "Epoch 12/50\n",
      "20/20 [==============================] - 0s 11ms/step - loss: 0.5223 - accuracy: 0.8562 - val_loss: 0.6019 - val_accuracy: 0.8000\n",
      "Epoch 13/50\n",
      "20/20 [==============================] - 0s 12ms/step - loss: 0.4775 - accuracy: 0.8813 - val_loss: 0.5603 - val_accuracy: 0.8500\n",
      "Epoch 14/50\n",
      "20/20 [==============================] - 0s 11ms/step - loss: 0.4431 - accuracy: 0.8938 - val_loss: 0.5284 - val_accuracy: 0.8500\n",
      "Epoch 15/50\n",
      "20/20 [==============================] - 0s 12ms/step - loss: 0.4161 - accuracy: 0.8938 - val_loss: 0.4904 - val_accuracy: 0.8500\n",
      "Epoch 16/50\n",
      "20/20 [==============================] - 0s 11ms/step - loss: 0.3859 - accuracy: 0.8938 - val_loss: 0.4692 - val_accuracy: 0.8750\n",
      "Epoch 17/50\n",
      "20/20 [==============================] - 0s 13ms/step - loss: 0.3632 - accuracy: 0.8938 - val_loss: 0.4409 - val_accuracy: 0.8750\n",
      "Epoch 18/50\n",
      "20/20 [==============================] - 0s 12ms/step - loss: 0.3421 - accuracy: 0.8875 - val_loss: 0.4241 - val_accuracy: 0.8750\n",
      "Epoch 19/50\n",
      "20/20 [==============================] - 0s 9ms/step - loss: 0.3245 - accuracy: 0.8938 - val_loss: 0.3981 - val_accuracy: 0.8750\n",
      "Epoch 20/50\n",
      "20/20 [==============================] - 0s 10ms/step - loss: 0.3068 - accuracy: 0.9062 - val_loss: 0.3792 - val_accuracy: 0.8750\n",
      "Epoch 21/50\n",
      "20/20 [==============================] - 0s 12ms/step - loss: 0.2969 - accuracy: 0.9125 - val_loss: 0.3658 - val_accuracy: 0.8750\n",
      "Epoch 22/50\n",
      "20/20 [==============================] - 0s 8ms/step - loss: 0.2782 - accuracy: 0.9250 - val_loss: 0.3446 - val_accuracy: 0.8750\n",
      "Epoch 23/50\n",
      "20/20 [==============================] - 0s 8ms/step - loss: 0.2655 - accuracy: 0.9312 - val_loss: 0.3295 - val_accuracy: 0.9000\n",
      "Epoch 24/50\n",
      "20/20 [==============================] - 0s 9ms/step - loss: 0.2543 - accuracy: 0.9312 - val_loss: 0.3155 - val_accuracy: 0.9000\n",
      "Epoch 25/50\n",
      "20/20 [==============================] - 0s 9ms/step - loss: 0.2439 - accuracy: 0.9250 - val_loss: 0.3056 - val_accuracy: 0.9000\n",
      "Epoch 26/50\n",
      "20/20 [==============================] - 0s 8ms/step - loss: 0.2338 - accuracy: 0.9375 - val_loss: 0.2948 - val_accuracy: 0.9000\n",
      "Epoch 27/50\n",
      "20/20 [==============================] - 0s 8ms/step - loss: 0.2259 - accuracy: 0.9375 - val_loss: 0.2799 - val_accuracy: 0.9000\n",
      "Epoch 28/50\n",
      "20/20 [==============================] - 0s 9ms/step - loss: 0.2161 - accuracy: 0.9375 - val_loss: 0.2708 - val_accuracy: 0.8750\n",
      "Epoch 29/50\n",
      "20/20 [==============================] - 0s 10ms/step - loss: 0.2069 - accuracy: 0.9438 - val_loss: 0.2621 - val_accuracy: 0.9500\n",
      "Epoch 30/50\n",
      "20/20 [==============================] - 0s 11ms/step - loss: 0.1998 - accuracy: 0.9438 - val_loss: 0.2509 - val_accuracy: 0.9500\n",
      "Epoch 31/50\n",
      "20/20 [==============================] - 0s 11ms/step - loss: 0.1934 - accuracy: 0.9438 - val_loss: 0.2407 - val_accuracy: 0.9500\n",
      "Epoch 32/50\n",
      "20/20 [==============================] - 0s 9ms/step - loss: 0.1855 - accuracy: 0.9500 - val_loss: 0.2344 - val_accuracy: 0.9500\n",
      "Epoch 33/50\n",
      "20/20 [==============================] - 0s 9ms/step - loss: 0.1802 - accuracy: 0.9438 - val_loss: 0.2276 - val_accuracy: 0.9500\n",
      "Epoch 34/50\n",
      "20/20 [==============================] - 0s 10ms/step - loss: 0.1734 - accuracy: 0.9438 - val_loss: 0.2178 - val_accuracy: 0.9500\n",
      "Epoch 35/50\n",
      "20/20 [==============================] - 0s 9ms/step - loss: 0.1662 - accuracy: 0.9500 - val_loss: 0.2118 - val_accuracy: 0.9500\n",
      "Epoch 36/50\n",
      "20/20 [==============================] - 0s 9ms/step - loss: 0.1631 - accuracy: 0.9563 - val_loss: 0.2010 - val_accuracy: 0.9500\n",
      "Epoch 37/50\n",
      "20/20 [==============================] - 0s 9ms/step - loss: 0.1553 - accuracy: 0.9500 - val_loss: 0.1992 - val_accuracy: 0.9500\n",
      "Epoch 38/50\n",
      "20/20 [==============================] - 0s 10ms/step - loss: 0.1501 - accuracy: 0.9500 - val_loss: 0.1923 - val_accuracy: 0.9500\n",
      "Epoch 39/50\n",
      "20/20 [==============================] - 0s 10ms/step - loss: 0.1462 - accuracy: 0.9625 - val_loss: 0.1851 - val_accuracy: 0.9500\n",
      "Epoch 40/50\n",
      "20/20 [==============================] - 0s 10ms/step - loss: 0.1412 - accuracy: 0.9563 - val_loss: 0.1800 - val_accuracy: 0.9500\n",
      "Epoch 41/50\n",
      "20/20 [==============================] - 0s 10ms/step - loss: 0.1359 - accuracy: 0.9688 - val_loss: 0.1724 - val_accuracy: 0.9500\n",
      "Epoch 42/50\n",
      "20/20 [==============================] - 0s 11ms/step - loss: 0.1306 - accuracy: 0.9625 - val_loss: 0.1707 - val_accuracy: 0.9500\n",
      "Epoch 43/50\n",
      "20/20 [==============================] - 0s 11ms/step - loss: 0.1292 - accuracy: 0.9688 - val_loss: 0.1684 - val_accuracy: 0.9500\n",
      "Epoch 44/50\n",
      "20/20 [==============================] - 0s 12ms/step - loss: 0.1229 - accuracy: 0.9688 - val_loss: 0.1585 - val_accuracy: 0.9500\n",
      "Epoch 45/50\n",
      "20/20 [==============================] - 0s 10ms/step - loss: 0.1187 - accuracy: 0.9688 - val_loss: 0.1550 - val_accuracy: 0.9500\n",
      "Epoch 46/50\n",
      "20/20 [==============================] - 0s 10ms/step - loss: 0.1152 - accuracy: 0.9688 - val_loss: 0.1537 - val_accuracy: 0.9500\n",
      "Epoch 47/50\n",
      "20/20 [==============================] - 0s 9ms/step - loss: 0.1104 - accuracy: 0.9750 - val_loss: 0.1474 - val_accuracy: 0.9500\n",
      "Epoch 48/50\n",
      "20/20 [==============================] - 0s 9ms/step - loss: 0.1063 - accuracy: 0.9750 - val_loss: 0.1397 - val_accuracy: 0.9500\n",
      "Epoch 49/50\n",
      "20/20 [==============================] - 0s 9ms/step - loss: 0.1034 - accuracy: 0.9750 - val_loss: 0.1368 - val_accuracy: 0.9500\n",
      "Epoch 50/50\n",
      "20/20 [==============================] - 0s 12ms/step - loss: 0.0994 - accuracy: 0.9750 - val_loss: 0.1318 - val_accuracy: 0.9500\n"
     ]
    }
   ],
   "source": [
    "# Train the model\n",
    "history = model.fit(X_train, y_train, epochs=50, batch_size=8, validation_data=(X_test, y_test))"
   ]
  },
  {
   "cell_type": "markdown",
   "id": "35e687c3",
   "metadata": {},
   "source": [
    "Evaluation"
   ]
  },
  {
   "cell_type": "code",
   "execution_count": 10,
   "id": "b240c06e",
   "metadata": {},
   "outputs": [
    {
     "name": "stdout",
     "output_type": "stream",
     "text": [
      "5/5 [==============================] - 1s 8ms/step - loss: 0.0953 - accuracy: 0.9812\n",
      "Training Loss: 0.09529606252908707\n",
      "Training Accuracy: 0.981249988079071\n"
     ]
    }
   ],
   "source": [
    "# Evaluate on training data\n",
    "train_loss, train_accuracy = model.evaluate(X_train, y_train)\n",
    "print(f\"Training Loss: {train_loss}\")\n",
    "print(f\"Training Accuracy: {train_accuracy}\")"
   ]
  },
  {
   "cell_type": "code",
   "execution_count": 11,
   "id": "728afd89",
   "metadata": {},
   "outputs": [
    {
     "name": "stdout",
     "output_type": "stream",
     "text": [
      "2/2 [==============================] - 0s 12ms/step - loss: 0.1318 - accuracy: 0.9500\n",
      "Test Loss: 0.13178279995918274\n",
      "Test Accuracy: 0.949999988079071\n"
     ]
    }
   ],
   "source": [
    "# Evaluate on test data\n",
    "loss, accuracy = model.evaluate(X_test, y_test)\n",
    "print(f\"Test Loss: {loss}\")\n",
    "print(f\"Test Accuracy: {accuracy}\")"
   ]
  },
  {
   "cell_type": "markdown",
   "id": "26d5bc0f",
   "metadata": {},
   "source": [
    "Predictions"
   ]
  },
  {
   "cell_type": "code",
   "execution_count": 12,
   "id": "2a240239",
   "metadata": {},
   "outputs": [
    {
     "name": "stdout",
     "output_type": "stream",
     "text": [
      "2/2 [==============================] - 0s 8ms/step\n",
      "Predicted Classes: [4 0 4 3 0 0 0 4 1 4 1 4 0 1 2 0 2 4 3 0 2 4 3 0 0 0 3 4 0 4 0 3 4 0 1 0 4\n",
      " 1 0 1]\n",
      "Actual Classes: [4 0 4 3 0 0 0 4 1 4 1 4 0 1 2 0 2 4 3 0 2 4 4 0 0 0 3 4 0 4 0 3 3 0 1 0 4\n",
      " 1 0 1]\n"
     ]
    }
   ],
   "source": [
    "# Make predictions\n",
    "y_pred = model.predict(X_test)\n",
    "predicted_classes = np.argmax(y_pred, axis=1)\n",
    "actual_classes = np.argmax(y_test, axis=1)\n",
    "\n",
    "print(\"Predicted Classes:\", predicted_classes)\n",
    "print(\"Actual Classes:\", actual_classes)"
   ]
  },
  {
   "cell_type": "markdown",
   "id": "2e5ea0c8",
   "metadata": {},
   "source": [
    "Plotting the accuracies and losses"
   ]
  },
  {
   "cell_type": "code",
   "execution_count": 13,
   "id": "b2d71743",
   "metadata": {},
   "outputs": [
    {
     "data": {
      "image/png": "[encoded data removed]",
      "text/plain": [
       "<Figure size 1200x500 with 2 Axes>"
      ]
     },
     "metadata": {},
     "output_type": "display_data"
    }
   ],
   "source": [
    "import matplotlib.pyplot as plt\n",
    "\n",
    "# Evaluate on training and testing datasets\n",
    "train_loss, train_accuracy = model.evaluate(X_train, y_train, verbose=0)\n",
    "test_loss, test_accuracy = model.evaluate(X_test, y_test, verbose=0)\n",
    "\n",
    "# Extract training history\n",
    "epochs = range(1, len(history.history['accuracy']) + 1)\n",
    "train_accuracy_history = history.history['accuracy']\n",
    "val_accuracy_history = history.history['val_accuracy']\n",
    "train_loss_history = history.history['loss']\n",
    "val_loss_history = history.history['val_loss']\n",
    "\n",
    "# Plot accuracy for training and testing\n",
    "plt.figure(figsize=(12, 5))\n",
    "plt.subplot(1, 2, 1)\n",
    "plt.plot(epochs, train_accuracy_history, label='Train Accuracy', color='blue')\n",
    "plt.plot(epochs, val_accuracy_history, label='Validation Accuracy', color='orange')\n",
    "plt.axhline(test_accuracy, linestyle='--', color='green', label='Test Accuracy')\n",
    "plt.title('Model Accuracy')\n",
    "plt.xlabel('Epoch')\n",
    "plt.ylabel('Accuracy')\n",
    "plt.legend()\n",
    "\n",
    "# Plot loss for training and testing\n",
    "plt.subplot(1, 2, 2)\n",
    "plt.plot(epochs, train_loss_history, label='Train Loss', color='blue')\n",
    "plt.plot(epochs, val_loss_history, label='Validation Loss', color='orange')\n",
    "plt.axhline(test_loss, linestyle='--', color='green', label='Test Loss')\n",
    "plt.title('Model Loss')\n",
    "plt.xlabel('Epoch')\n",
    "plt.ylabel('Loss')\n",
    "plt.legend()\n",
    "\n",
    "plt.tight_layout()\n",
    "plt.show()"
   ]
  },
  {
   "cell_type": "markdown",
   "id": "745c3aea",
   "metadata": {},
   "source": [
    "Reverse Encoding the classes for understanding"
   ]
  },
  {
   "cell_type": "code",
   "execution_count": 14,
   "id": "26de683a",
   "metadata": {},
   "outputs": [
    {
     "name": "stdout",
     "output_type": "stream",
     "text": [
      "Drug encoding mapping: {'DrugY': 0, 'drugA': 1, 'drugB': 2, 'drugC': 3, 'drugX': 4}\n",
      "Encoded label 0 corresponds to drug DrugY\n"
     ]
    }
   ],
   "source": [
    "# Get the mapping of drugs to their encoded values\n",
    "drug_mapping = dict(zip(le_drug.classes_, le_drug.transform(le_drug.classes_)))\n",
    "\n",
    "# Print the mapping\n",
    "print(\"Drug encoding mapping:\", drug_mapping)\n",
    "\n",
    "# Example: Decode predictions or encoded labels\n",
    "encoded_label = 0  # Example encoded label\n",
    "decoded_label = le_drug.inverse_transform([encoded_label])\n",
    "print(f\"Encoded label {encoded_label} corresponds to drug {decoded_label[0]}\")"
   ]
  }
 ],
 "metadata": {
  "kernelspec": {
   "display_name": "Python 3 (ipykernel)",
   "language": "python",
   "name": "python3"
  },
  "language_info": {
   "codemirror_mode": {
    "name": "ipython",
    "version": 3
   },
   "file_extension": ".py",
   "mimetype": "text/x-python",
   "name": "python",
   "nbconvert_exporter": "python",
   "pygments_lexer": "ipython3",
   "version": "3.11.5"
  }
 },
 "nbformat": 4,
 "nbformat_minor": 5
}
